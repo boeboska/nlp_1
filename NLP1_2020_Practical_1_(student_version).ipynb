{
 "cells": [
  {
   "cell_type": "markdown",
   "metadata": {
    "id": "1-aRiOgl4nHg"
   },
   "source": [
    "------\n",
    "**You cannot apply any changes to this file, so please make sure to save it on your Google Colab drive or download it as a .ipynb file.**\n",
    "\n",
    "------\n",
    "\n",
    " "
   ]
  },
  {
   "cell_type": "markdown",
   "metadata": {
    "id": "lIZrAUx57vsM"
   },
   "source": [
    "Practical 1: Sentiment Detection in Movie Reviews\n",
    "========================================\n",
    "\n"
   ]
  },
  {
   "cell_type": "markdown",
   "metadata": {
    "id": "J4kXPMhyngZW"
   },
   "source": [
    "This practical concerns detecting sentiment in movie reviews. This is a typical NLP classification task.\n",
    "In [this file](https://gist.githubusercontent.com/bastings/d47423301cca214e3930061a5a75e177/raw/5113687382919e22b1f09ce71a8fecd1687a5760/reviews.json) (80MB) you will find 1000 positive and 1000 negative **movie reviews**.\n",
    "Each review is a **document** and consists of one or more sentences.\n",
    "\n",
    "To prepare yourself for this practical, you should\n",
    "have a look at a few of these texts to understand the difficulties of\n",
    "the task: how might one go about classifying the texts? You will write\n",
    "code that decides whether a movie review conveys positive or\n",
    "negative sentiment.\n",
    "\n",
    "Please make sure you have read the following paper:\n",
    "\n",
    ">   Bo Pang, Lillian Lee, and Shivakumar Vaithyanathan\n",
    "(2002). \n",
    "[Thumbs up? Sentiment Classification using Machine Learning\n",
    "Techniques](https://dl.acm.org/citation.cfm?id=1118704). EMNLP.\n",
    "\n",
    "Bo Pang et al. were the \"inventors\" of the movie review sentiment\n",
    "classification task, and the above paper was one of the first papers on\n",
    "the topic. The first version of your sentiment classifier will do\n",
    "something similar to Pang et al.'s system. If you have questions about it,\n",
    "you should resolve as soon as possible with your TA.\n"
   ]
  },
  {
   "cell_type": "markdown",
   "metadata": {
    "id": "cb7errgRASzZ"
   },
   "source": [
    "**Advice**\n",
    "\n",
    "Please read through the entire practical and familiarise\n",
    "yourself with all requirements before you start coding or otherwise\n",
    "solving the tasks. Writing clean and concise code can make the difference\n",
    "between solving the assignment in a matter of hours, and taking days to\n",
    "run all experiments.\n",
    "\n",
    "## Environment\n",
    "\n",
    "All code should be written in **Python 3**. \n",
    "This is the default in Google Colab."
   ]
  },
  {
   "cell_type": "code",
   "execution_count": 1,
   "metadata": {
    "id": "SaZnxptMJiD7"
   },
   "outputs": [
    {
     "name": "stdout",
     "output_type": "stream",
     "text": [
      "Python 3.7.4\n"
     ]
    }
   ],
   "source": [
    "!python --version"
   ]
  },
  {
   "cell_type": "markdown",
   "metadata": {
    "id": "BYZyIF7lJnGn"
   },
   "source": [
    "If you want to run code on your own computer, then download this notebook through `File -> Download .ipynb`.\n",
    "The easiest way to\n",
    "install Python is through downloading\n",
    "[Anaconda](https://www.anaconda.com/download). \n",
    "After installation, you can start the notebook by typing `jupyter notebook filename.ipynb`.\n",
    "You can also use an IDE\n",
    "such as [PyCharm](https://www.jetbrains.com/pycharm/download/) to make\n",
    "coding and debugging easier. It is good practice to create a [virtual\n",
    "environment](https://docs.python.org/3/tutorial/venv.html) for this\n",
    "project, so that any Python packages don’t interfere with other\n",
    "projects. \n",
    " \n",
    "\n",
    "**Learning Python 3**\n",
    "\n",
    "If you are new to Python 3, you may want to check out a few of these resources:\n",
    "- https://learnxinyminutes.com/docs/python3/\n",
    "- https://www.learnpython.org/\n",
    "- https://docs.python.org/3/tutorial/"
   ]
  },
  {
   "cell_type": "code",
   "execution_count": 2,
   "metadata": {
    "id": "hok-BFu9lGoK"
   },
   "outputs": [],
   "source": [
    "import math\n",
    "import os\n",
    "import sys\n",
    "from subprocess import call\n",
    "from nltk import FreqDist\n",
    "from nltk.util import ngrams\n",
    "from nltk.stem.porter import PorterStemmer\n",
    "import sklearn as sk\n",
    "#from google.colab import drive\n",
    "import pickle\n",
    "import json\n",
    "from collections import Counter\n",
    "import requests\n",
    "import matplotlib.pyplot as plt\n",
    "import numpy as np"
   ]
  },
  {
   "cell_type": "markdown",
   "metadata": {
    "id": "bXWyGHwE-ieQ"
   },
   "source": [
    "## Loading the data\n",
    "\n",
    "**Download the sentiment lexicon and the movie reviews dataset.**"
   ]
  },
  {
   "cell_type": "code",
   "execution_count": 4,
   "metadata": {
    "id": "lm-rakqtlMOT"
   },
   "outputs": [],
   "source": [
    "# download sentiment lexicon\n",
    "#!wget https://gist.githubusercontent.com/bastings/d6f99dcb6c82231b94b013031356ba05/raw/f80a0281eba8621b122012c89c8b5e2200b39fd6/sent_lexicon\n",
    "# download review data\n",
    "#!wget https://gist.githubusercontent.com/bastings/d47423301cca214e3930061a5a75e177/raw/5113687382919e22b1f09ce71a8fecd1687a5760/reviews.json"
   ]
  },
  {
   "cell_type": "markdown",
   "metadata": {
    "id": "AkPwuHp5LSuQ"
   },
   "source": [
    "**Load the movie reviews.**\n",
    "\n",
    "Each word in a review comes with its part-of-speech tag. For documentation on POS-tags, see https://catalog.ldc.upenn.edu/docs/LDC99T42/tagguid1.pdf.\n"
   ]
  },
  {
   "cell_type": "code",
   "execution_count": 3,
   "metadata": {
    "id": "careEKj-mRpl"
   },
   "outputs": [
    {
     "name": "stdout",
     "output_type": "stream",
     "text": [
      "Total number of reviews: 2000 \n",
      "\n",
      "0 NEG 29\n",
      "Two/CD teen/JJ couples/NNS go/VBP to/TO a/DT church/NN party/NN ,/, drink/NN and/CC then/RB drive/NN ./.\n",
      "1 NEG 11\n",
      "Damn/JJ that/IN Y2K/CD bug/NN ./.\n",
      "2 NEG 24\n",
      "It/PRP is/VBZ movies/NNS like/IN these/DT that/WDT make/VBP a/DT jaded/JJ movie/NN viewer/NN thankful/JJ for/IN the/DT invention/NN of/IN the/DT Timex/NNP IndiGlo/NNP watch/NN ./.\n",
      "3 NEG 19\n",
      "QUEST/NN FOR/IN CAMELOT/NNP ``/`` Quest/NNP for/IN Camelot/NNP ''/'' is/VBZ Warner/NNP Bros./NNP '/POS first/JJ feature-length/JJ ,/, fully-animated/JJ attempt/NN to/TO steal/VB clout/NN from/IN Disney/NNP 's/POS cartoon/NN empire/NN ,/, but/CC the/DT mouse/NN has/VBZ no/DT reason/NN to/TO be/VB worried/VBN ./.\n",
      "4 NEG 38\n",
      "Synopsis/NNPS :/: A/DT mentally/RB unstable/JJ man/NN undergoing/VBG psychotherapy/NN saves/VBZ a/DT boy/NN from/IN a/DT potentially/RB fatal/JJ accident/NN and/CC then/RB falls/VBZ in/IN love/NN with/IN the/DT boy/NN 's/POS mother/NN ,/, a/DT fledgling/NN restauranteur/NN ./.\n",
      "\n",
      "Number of word types: 47743\n",
      "Number of word tokens: 1512359\n",
      "\n",
      "Most common tokens:\n",
      "         , :    77842\n",
      "       the :    75948\n",
      "         . :    59027\n",
      "         a :    37583\n",
      "       and :    35235\n",
      "        of :    33864\n",
      "        to :    31601\n",
      "        is :    25972\n",
      "        in :    21563\n",
      "        's :    18043\n",
      "        it :    15904\n",
      "      that :    15820\n",
      "     -rrb- :    11768\n",
      "     -lrb- :    11670\n",
      "        as :    11312\n",
      "      with :    10739\n",
      "       for :     9816\n",
      "       his :     9542\n",
      "      this :     9497\n",
      "      film :     9404\n"
     ]
    }
   ],
   "source": [
    "# file structure:\n",
    "# [\n",
    "#  {\"cv\": integer, \"sentiment\": str, \"content\": list} \n",
    "#  {\"cv\": integer, \"sentiment\": str, \"content\": list} \n",
    "#   ..\n",
    "# ]\n",
    "# where `content` is a list of sentences, \n",
    "# with a sentence being a list of (token, pos_tag) pairs.\n",
    "\n",
    "\n",
    "with open(\"reviews.json\", mode=\"r\", encoding=\"utf-8\") as f:\n",
    "  reviews = json.load(f)\n",
    "  \n",
    "print(\"Total number of reviews:\", len(reviews), '\\n')\n",
    "\n",
    "def print_sentence_with_pos(s):\n",
    "  print(\" \".join(\"%s/%s\" % (token, pos_tag) for token, pos_tag in s))\n",
    "\n",
    "for i, r in enumerate(reviews):\n",
    "  print(r[\"cv\"], r[\"sentiment\"], len(r[\"content\"]))  # cv, sentiment, num sents\n",
    "  print_sentence_with_pos(r[\"content\"][0])\n",
    "  if i == 4: \n",
    "    break\n",
    "    \n",
    "c = Counter()\n",
    "for review in reviews:\n",
    "  for sentence in review[\"content\"]:\n",
    "    for token, pos_tag in sentence:\n",
    "      c[token.lower()] += 1\n",
    "    \n",
    "#Aantal verschillende woorden     \n",
    "print(\"\\nNumber of word types:\", len(c))\n",
    "#Aantal woorden in totaal\n",
    "print(\"Number of word tokens:\", sum(c.values()))\n",
    "\n",
    "\n",
    "\n",
    "\n",
    "print(\"\\nMost common tokens:\")\n",
    "for token, count in c.most_common(20):\n",
    "  print(\"%10s : %8d\" % (token, count))\n",
    "  "
   ]
  },
  {
   "cell_type": "markdown",
   "metadata": {
    "id": "E6PWaEoh8B34"
   },
   "source": [
    "# Lexicon-based approach (2+1pts)\n",
    "\n"
   ]
  },
  {
   "cell_type": "markdown",
   "metadata": {
    "id": "JsTSMb6ma4E8"
   },
   "source": [
    "A traditional approach to automatically classify documents according to their sentiment is the lexicon-based approach. To implement this approach, you need a **sentiment lexicon**, i.e., a list of words annotated with a sentiment label (e.g., positive and negative) or a sentiment score (e.g., a score from 0 to 5).\n",
    "\n",
    "In this practical, you will use the sentiment\n",
    "lexicon released by Wilson et al. (2005). The path of the loaded lexicon is `\"sent_lexicon\"`.\n",
    "\n",
    "> Theresa Wilson, Janyce Wiebe, and Paul Hoffmann\n",
    "(2005). [Recognizing Contextual Polarity in Phrase-Level Sentiment\n",
    "Analysis](http://www.aclweb.org/anthology/H/H05/H05-1044.pdf). HLT-EMNLP.\n",
    "\n",
    "Pay attention to all the information available in the sentiment lexicon. The field *word1* contains the lemma, *priorpolarity* contains the sentiment label (positive, negative, both, or neutral), *type* gives you the magnitude of the word's sentiment (strong or weak), and *pos1* gives you the part-of-speech tag of the lemma. Some lemmas can have multiple part-of-speech tags and thus multiple entries in the lexicon.\n"
   ]
  },
  {
   "cell_type": "markdown",
   "metadata": {
    "id": "MCHUMmb0SZxy"
   },
   "source": [
    "Pay attention to all the information available in the sentiment lexicon. The field *word1* contains the lemma, *priorpolarity* contains the sentiment label (positive, negative, both, or neutral), *type* gives you the magnitude of the word's sentiment (strong or weak), and *pos1* gives you the part-of-speech tag of the lemma. Some lemmas can have multiple part-of-speech tags and thus multiple entries in the lexicon."
   ]
  },
  {
   "cell_type": "code",
   "execution_count": 4,
   "metadata": {
    "id": "Ogq0Eq2hQglh"
   },
   "outputs": [
    {
     "name": "stdout",
     "output_type": "stream",
     "text": [
      "type=weaksubj len=1 word1=abandoned pos1=adj stemmed1=n priorpolarity=negative\n",
      "type=weaksubj len=1 word1=abandonment pos1=noun stemmed1=n priorpolarity=negative\n",
      "type=weaksubj len=1 word1=abandon pos1=verb stemmed1=y priorpolarity=negative\n",
      "type=strongsubj len=1 word1=abase pos1=verb stemmed1=y priorpolarity=negative\n",
      "type=strongsubj len=1 word1=abasement pos1=anypos stemmed1=y priorpolarity=negative\n"
     ]
    }
   ],
   "source": [
    "with open(\"sent_lexicon\", mode=\"r\", encoding=\"utf-8\") as f:\n",
    "  line_cnt = 0\n",
    "  for line in f:\n",
    "    print(line.strip())\n",
    "    line_cnt += 1\n",
    "    if line_cnt > 4:\n",
    "      break\n",
    "    \n"
   ]
  },
  {
   "cell_type": "markdown",
   "metadata": {
    "id": "Mml4nOtIUBhn"
   },
   "source": [
    "Given such a sentiment lexicon, there are ways to solve\n",
    "the classification task without using Machine Learning. For example, one might look up every word $w_1 ... w_n$ in a document, and compute a **binary score**\n",
    "$S_{binary}$ by counting how many words have a positive or a\n",
    "negative label in the sentiment lexicon $SLex$.\n",
    "\n",
    "$$S_{binary}(w_1 w_2 ... w_n) = \\sum_{i = 1}^{n}\\text{sign}(SLex\\big[w_i\\big])$$\n",
    "\n",
    "where $\\text{sign}(SLex\\big[w_i\\big])$ refers to the polarity of $w_i$.\n",
    "\n",
    "**Threshold.** On average, there are more positive than negative words per review (~7.13 more positive than negative per review) to take this bias into account you should use a threshold of **8** (roughly the bias itself) to make it harder to classify as positive.\n",
    "\n",
    "$$\n",
    "\\text{classify}(S_{binary}(w_1 w_2 ... w_n)) = \\bigg\\{\\begin{array}{ll}\n",
    "        \\text{positive} & \\text{if } S_{binary}(w_1w_2...w_n) > threshold\\\\\n",
    "        \\text{negative} & \\text{otherwise}\n",
    "        \\end{array}\n",
    "$$\n"
   ]
  },
  {
   "cell_type": "markdown",
   "metadata": {
    "id": "tOFnMvbeeZrc"
   },
   "source": [
    "#### (Q1.1) Implement this approach and report its classification accuracy. (1 pt)"
   ]
  },
  {
   "cell_type": "code",
   "execution_count": 5,
   "metadata": {},
   "outputs": [],
   "source": [
    "###Preprocess Sent_lex\n",
    "\n",
    "sent_lex = {}\n",
    "with open(\"sent_lexicon\", mode=\"r\", encoding=\"utf-8\") as f:\n",
    "  for line in f:\n",
    "    lijst = line.split('\\n')\n",
    "    for x in lijst:\n",
    "        lijstje = x.split(' ')\n",
    "        if lijstje[0] == '':\n",
    "            continue\n",
    "        word = lijstje[2].split('=')[1]\n",
    "        sent_lex[word] = x\n",
    "    \n"
   ]
  },
  {
   "cell_type": "code",
   "execution_count": 6,
   "metadata": {
    "id": "ED2aTEYutW1-"
   },
   "outputs": [
    {
     "name": "stdout",
     "output_type": "stream",
     "text": [
      "Accuracy:  67.95 %\n"
     ]
    }
   ],
   "source": [
    "NoCorrect = 0\n",
    "classifications = []\n",
    "\n",
    "with open(\"reviews.json\", mode=\"r\", encoding=\"utf-8\") as f:\n",
    "  reviews = json.load(f)\n",
    "\n",
    "\n",
    "threshold = 8\n",
    "\n",
    "\n",
    "for r in reviews:\n",
    "    label = r[\"sentiment\"]\n",
    "    #print(label)\n",
    "    text = r[\"content\"] \n",
    "    words = []\n",
    "    value = 0\n",
    "    for x in text:\n",
    "        #print(x)\n",
    "        for a in x:\n",
    "            word = a[0]\n",
    "            if word in sent_lex:          \n",
    "                sentiment = sent_lex[word].split(' ')[5].split('=')[1]\n",
    "                #print(sentiment)\n",
    "                if sentiment == 'positive':\n",
    "                    value += 1\n",
    "                if sentiment == 'negative':\n",
    "                    value -=1\n",
    "\n",
    "    if value > threshold:\n",
    "        classification = 1\n",
    "        \n",
    "    else:\n",
    "        classification = 0\n",
    "        \n",
    "    if classification == 1 and label == 'POS':\n",
    "        classifications.append(1)\n",
    "        NoCorrect +=1\n",
    "\n",
    "    elif classification == 0 and label == 'NEG':\n",
    "        NoCorrect +=1\n",
    "        classifications.append(1)\n",
    "    else:\n",
    "        classifications.append(0)\n",
    "\n",
    "\n",
    "accuracy = (NoCorrect / 2000) * 100\n",
    "\n",
    "print(\"Accuracy: \", accuracy, \"%\")\n",
    "        \n",
    "                    \n",
    "                \n",
    "                                 \n",
    "\n",
    "\n"
   ]
  },
  {
   "cell_type": "code",
   "execution_count": 7,
   "metadata": {
    "id": "iy528EUTphz5"
   },
   "outputs": [
    {
     "name": "stdout",
     "output_type": "stream",
     "text": [
      "Accuracy: 67.95\n"
     ]
    }
   ],
   "source": [
    "# token_results should be a list of binary indicators; for example [1, 0, 1, ...] \n",
    "# where 1 indicates a correct classification and 0 an incorrect classification.\n",
    "token_results = classifications\n",
    "token_accuracy = (sum(classifications)/2000 ) * 100\n",
    "print(\"Accuracy: %0.2f\" % token_accuracy)"
   ]
  },
  {
   "cell_type": "markdown",
   "metadata": {
    "id": "Twox0s_3eS0V"
   },
   "source": [
    "As the sentiment lexicon also has information about the **magnitude** of\n",
    "sentiment (e.g., *“excellent\"* would have higher magnitude than\n",
    "*“good\"*), we can take a more fine-grained approach by adding up all\n",
    "sentiment scores, and deciding the polarity of the movie review using\n",
    "the sign of the weighted score $S_{weighted}$.\n",
    "\n",
    "$$S_{weighted}(w_1w_2...w_n) = \\sum_{i = 1}^{n}SLex\\big[w_i\\big]$$\n",
    "\n",
    "\n",
    "Make sure you define an appropriate threshold for this approach.\n",
    "\n",
    "#### (Q1.2) Now incorporate magnitude information and report the classification accuracy. Don't forget to use the threshold. (1 pt)"
   ]
  },
  {
   "cell_type": "code",
   "execution_count": 8,
   "metadata": {
    "id": "qG3hUDnPtkhS",
    "scrolled": true
   },
   "outputs": [
    {
     "name": "stdout",
     "output_type": "stream",
     "text": [
      "Accuracy:  69.0 %\n"
     ]
    }
   ],
   "source": [
    "NoCorrect = 0\n",
    "classificationsmag = []\n",
    "\n",
    "with open(\"reviews.json\", mode=\"r\", encoding=\"utf-8\") as f:\n",
    "  reviews = json.load(f)\n",
    "\n",
    "\n",
    "threshold = 12\n",
    "\n",
    "\n",
    "for r in reviews:\n",
    "    label = r[\"sentiment\"]\n",
    "    #print(label)\n",
    "    text = r[\"content\"] \n",
    "    words = []\n",
    "    value = 0\n",
    "    for x in text:\n",
    "        #print(x)\n",
    "        for a in x:\n",
    "            word = a[0]\n",
    "            if word in sent_lex:          \n",
    "                sentiment = sent_lex[word].split(' ')[5].split('=')[1]\n",
    "                magnitude = sent_lex[word].split(' ')[0].split('=')[1]\n",
    "                if sentiment == 'positive' and magnitude == 'strongsubj':\n",
    "                    value += 2\n",
    "                if sentiment == 'positive' and magnitude == 'weaksubj':\n",
    "                    value += 1\n",
    "                if sentiment == 'negative' and magnitude == 'strongsubj':\n",
    "                    value -=2\n",
    "                if sentiment == 'negative' and magnitude == 'weaksubj':\n",
    "                    value -=1\n",
    "\n",
    "\n",
    "    if value > threshold:\n",
    "        classification = 1\n",
    "    else:\n",
    "        classification = 0\n",
    "        \n",
    "    if classification == 1 and label == 'POS':\n",
    "        classificationsmag.append(1)\n",
    "        NoCorrect +=1\n",
    "\n",
    "    elif classification == 0 and label == 'NEG':\n",
    "        NoCorrect +=1\n",
    "        classificationsmag.append(1)\n",
    "    else:\n",
    "        classificationsmag.append(0)\n",
    "\n",
    "\n",
    "accuracy = (NoCorrect / 2000) * 100\n",
    "\n",
    "print(\"Accuracy: \", accuracy, \"%\")"
   ]
  },
  {
   "cell_type": "code",
   "execution_count": 9,
   "metadata": {
    "id": "9vVk7CvDpyka"
   },
   "outputs": [
    {
     "name": "stdout",
     "output_type": "stream",
     "text": [
      "Accuracy: 69.00\n"
     ]
    }
   ],
   "source": [
    "magnitude_results = classificationsmag\n",
    "magnitude_accuracy = (sum(classificationsmag)/2000 ) * 100\n",
    "print(\"Accuracy: %0.2f\" % magnitude_accuracy)"
   ]
  },
  {
   "cell_type": "markdown",
   "metadata": {
    "id": "h9SHoGPfsAHV"
   },
   "source": [
    "#### Make a barplot of the two results."
   ]
  },
  {
   "cell_type": "code",
   "execution_count": 10,
   "metadata": {
    "id": "8LgBcYcXsEk3"
   },
   "outputs": [
    {
     "data": {
      "image/png": "[encoded data removed]",
      "text/plain": [
       "<Figure size 432x288 with 1 Axes>"
      ]
     },
     "metadata": {
      "needs_background": "light"
     },
     "output_type": "display_data"
    }
   ],
   "source": [
    "accuracies = [token_accuracy, magnitude_accuracy]\n",
    "x = ['Tokencounter', 'Magnitude']\n",
    "\n",
    "axes = plt.gca()\n",
    "axes.set_ylim([60,75])\n",
    "plt.bar(x,accuracies)\n",
    "axes.set_ylabel('Accuracy')\n",
    "axes.set_xlabel('Method used')\n",
    "plt.title('Lexicon based approach')\n",
    "plt.show()"
   ]
  },
  {
   "cell_type": "markdown",
   "metadata": {
    "id": "sNhS8OCVxMHd"
   },
   "source": [
    "## (Q1.3 Optional) A better threshold (1pt)\n",
    "Above we have defined a threshold to account for an inherent bias in the dataset: there are more positive than negative words per review.\n",
    "However, that threshold does not take into account *document length*. Explain why this is a problem and implement an alternative way to compute the threshold."
   ]
  },
  {
   "cell_type": "markdown",
   "metadata": {
    "id": "xo7gk1I-omLI"
   },
   "source": [
    "*Write your answer here.*"
   ]
  },
  {
   "cell_type": "markdown",
   "metadata": {
    "id": "Dwt0B8h8aKjr"
   },
   "source": [
    "The problem with the threshold being length-invariant is the fact that shorter reviews will automatically get classified as negative, because the probabilty that the document has 8 positive sentiment words is very small. And conversely, it also a problem for very long reviws, since the probability that there are more than 8 positive sentiment words is higher, even though there still could be high number of negative words present. \n",
    "\n",
    "An alternative way to compute the treshold could be:\n",
    "\n",
    "First compute the average document length and assume that the threshold for the average length is equal to 8.\n",
    "\n",
    "To compute the threshold: \n",
    "\n",
    "    -Take a document\n",
    "    -Divide its length by the average length\n",
    "    -Multiply with 8\n"
   ]
  },
  {
   "cell_type": "markdown",
   "metadata": {
    "id": "6MFrz8Jink0D"
   },
   "source": [
    "# Significance testing"
   ]
  },
  {
   "cell_type": "markdown",
   "metadata": {
    "id": "kxkxrldT9Ymc"
   },
   "source": [
    "Does using the magnitude improve the results? Oftentimes, answering such questions by simply comparing accuracy\n",
    "scores is not enough. When dealing with natural language and human ratings, it is safe to assume that there are infinitely many possible\n",
    "instances that could be used for training and testing, of which the ones\n",
    "we actually train and test on are a tiny sample. Thus, it is possible\n",
    "that observed differences in the reported performance are due to mere chance.\n",
    "\n",
    "There exist statistical methods which can be used to check for\n",
    "consistency (*statistical significance*) in the results, and one of the\n",
    "simplest such tests is the **sign test**. \n",
    "\n",
    "The sign test is based on the binomial distribution. Count all cases when System 1 is better than System 2, when System 2 is better than System 1, and when they are the same. Call these numbers $Plus$, $Minus$ and $Null$ respectively. \n",
    "\n",
    "The sign test returns the probability that the null hypothesis is true. \n",
    "\n",
    "This probability is called the $p$-value and it can be calculated for the two-sided sign test using the following formula (we multiply by two because this is a two-sided sign test and tests for the significance of differences in either direction):\n",
    "\n",
    "$$2 \\, \\sum\\limits_{i=0}^{k} \\binom{N}{i} \\, q^i \\, (1-q)^{N-i}$$\n",
    "\n",
    "where $$N = 2 \\Big\\lceil \\frac{Null}{2}\\Big\\rceil + Plus + Minus$$ is the total\n",
    "number of cases, and\n",
    "$$k = \\Big\\lceil \\frac{Null}{2}\\Big\\rceil + \\min\\{Plus,Minus\\}$$ is the number of\n",
    "cases with the less common sign. \n",
    "\n",
    "Here, we\n",
    "treat ties by adding half a point to either side, rounding up to the\n",
    "nearest integer if necessary. \n",
    "\n",
    "In this experiment, $q = 0.5$, so the formula simplifies to:\n",
    "$$2\\times 0.5^N\\, \\sum\\limits_{i=0}^{k} \\binom{N}{i}$$\n",
    "\n",
    "\n",
    "We use the `comb` function from `scipy` and the `decimal` package for the stable adding of numbers in the final summation.\n"
   ]
  },
  {
   "cell_type": "code",
   "execution_count": 11,
   "metadata": {
    "id": "de5l4oPkE-BS"
   },
   "outputs": [
    {
     "name": "stdout",
     "output_type": "stream",
     "text": [
      "the difference is not significant\n",
      "p_value = 0.6548123008131539579058732112\n"
     ]
    }
   ],
   "source": [
    "from decimal import Decimal\n",
    "from scipy.special import comb\n",
    "\n",
    "\n",
    "def sign_test(results_1, results_2):\n",
    "  \"\"\"test for significance\"\"\"\n",
    "  ties, plus, minus = 0, 0, 0\n",
    "\n",
    "  for i in range(0, len(results_1)):\n",
    "    if results_1[i]==results_2[i]:\n",
    "      ties += 1\n",
    "    elif results_1[i]==0: \n",
    "      plus += 1\n",
    "    elif results_2[i]==0: \n",
    "      minus += 1\n",
    "\n",
    "  n = (2 * math.ceil(ties/2.0)) + plus + minus\n",
    "  k = math.ceil(ties/2.0) + min(plus,minus)\n",
    "\n",
    "  summation = Decimal(0.0)\n",
    "  for i in range(0,int(k)+1):\n",
    "      summation += (Decimal(comb(n,i,exact=True)))\n",
    "\n",
    "  # use two-tailed version of test\n",
    "  summation *= 2\n",
    "  summation *= (Decimal(0.5)**Decimal(n))\n",
    "  \n",
    "  print(\"the difference is\", \n",
    "        \"not significant\" if summation >= 0.05 else \"significant\")\n",
    "  \n",
    "  return summation\n",
    "\n",
    "p_value = sign_test(token_results, magnitude_results)\n",
    "print(\"p_value =\", p_value)"
   ]
  },
  {
   "cell_type": "markdown",
   "metadata": {
    "id": "uhU_tk-BOaXb"
   },
   "source": [
    "### Using the Sign test\n",
    "\n",
    "**From now on, report all differences between systems, as well as between system configurations, using the\n",
    "sign test.**\n",
    "    \n",
    "You should report statistical test\n",
    "results in an appropriate form. If there are several different methods\n",
    "(i.e., systems) to compare, the Sign test can only be applied to pairs of them\n",
    "at a time. When reporting these pair-wise differences, you should\n",
    "summarise trends to avoid redundancy.\n"
   ]
  },
  {
   "cell_type": "markdown",
   "metadata": {
    "id": "LibV4nR89BXb"
   },
   "source": [
    "# Naive Bayes (10pt)"
   ]
  },
  {
   "cell_type": "markdown",
   "metadata": {
    "id": "fnF9adQnuwia"
   },
   "source": [
    "\n",
    "Your second task is to program a simple Machine Learning approach that operates\n",
    "on a simple Bag-of-Words (BoW) representation of the text data, as\n",
    "described by Pang et al. (2002). In this approach, the only features we\n",
    "will consider are the words in the text themselves, without bringing in\n",
    "external sources of information. The BoW model is a popular way of\n",
    "representing texts as vectors, making it\n",
    "easy to apply classical Machine Learning algorithms on NLP tasks.\n",
    "However, the BoW representation is also very crude, since it discards\n",
    "all information related to word order and grammatical structure in the\n",
    "original text—as the name suggests.\n",
    "\n",
    "## Writing your own classifier (4pts)\n",
    "\n",
    "Write your own code to implement the Naive Bayes (NB) classifier. As\n",
    "a reminder, the Naive Bayes classifier works according to the following\n",
    "equation:\n",
    "$$\\hat{c} = \\operatorname*{arg\\,max}_{c \\in C} P(c|\\bar{f}) = \\operatorname*{arg\\,max}_{c \\in C} P(c)\\prod^n_{i=1} P(f_i|c)$$\n",
    "where $C = \\{ \\text{POS}, \\text{NEG} \\}$ is the set of possible classes,\n",
    "$\\hat{c} \\in C$ is the most probable class, and $\\bar{f}$ is the feature\n",
    "vector. Remember that we use the log of these probabilities when making\n",
    "a prediction:\n",
    "$$\\hat{c} = \\operatorname*{arg\\,max}_{c \\in C} \\Big\\{\\log P(c) + \\sum^n_{i=1} \\log P(f_i|c)\\Big\\}$$\n",
    "\n",
    "You can find more details about Naive Bayes in [Jurafsky &\n",
    "Martin](https://web.stanford.edu/~jurafsky/slp3/). You can also look at\n",
    "this helpful\n",
    "[pseudo-code](https://nlp.stanford.edu/IR-book/html/htmledition/naive-bayes-text-classification-1.html).\n",
    "\n",
    "*Note: this section and the next aim to put you in a position to replicate\n",
    "    Pang et al.'s Naive Bayes results. However, your numerical results\n",
    "    will differ from theirs, as they used different data.*\n",
    "\n",
    "**You must write the Naive Bayes training and prediction code from\n",
    "scratch.** You will not be given credit for using off-the-shelf Machine\n",
    "Learning libraries.\n",
    "\n",
    "The data contains the text of the reviews, where each document consists\n",
    "of the sentences in the review, the sentiment of the review and an index\n",
    "(cv) that you will later use for cross-validation. The\n",
    "text has already been tokenised and POS-tagged for you. Your algorithm\n",
    "should read in the text, **lowercase it**, store the words and their\n",
    "frequencies in an appropriate data structure that allows for easy\n",
    "computation of the probabilities used in the Naive Bayes algorithm, and\n",
    "then make predictions for new instances.\n"
   ]
  },
  {
   "cell_type": "markdown",
   "metadata": {
    "id": "vEpyQSBSkb33"
   },
   "source": [
    "#### (Q3.1) Unseen words (1pt)\n",
    "The presence of words in the test dataset that\n",
    "have not been seen during training can cause probabilities in the Naive Bayes classifier to equal $0$.\n",
    "These can be words which are unseen in both positive and negative training reviews (case 1), but also words which are seen in reviews _of only one sentiment class_ in the training dataset (case 2). In both cases, **you should skip these words for both classes**. \n",
    "\n",
    "In case 2, you could also set $P(c|\\bar{f}) = 0$ for the class $c$ within which $f_i \\in \\bar{f}$ was not seen. One way to implement this in log space is to set $P(c|\\bar{f}) = -\\infty$. What would be the problem instead with skipping words only for one class in case 2? "
   ]
  },
  {
   "cell_type": "markdown",
   "metadata": {
    "id": "BanFiYYnoxDW"
   },
   "source": [
    "*Write your answer here.*"
   ]
  },
  {
   "cell_type": "markdown",
   "metadata": {
    "id": "gsZRhaI3WvzC"
   },
   "source": [
    "#### (Q3.2) Train your classifier on (positive and negative) reviews with cv-value 000-899, and test it on the remaining (positive and negative) reviews cv900–cv999.  Report results using classification accuracy as your evaluation metric. Your  features are the word vocabulary. The value of a feature is the count of that feature (word) in the document. (2pts)\n"
   ]
  },
  {
   "cell_type": "code",
   "execution_count": 257,
   "metadata": {
    "id": "G7zaJYGFvIJ3",
    "scrolled": true
   },
   "outputs": [],
   "source": [
    "import copy\n",
    "### First make vocabulary\n",
    "vocabulary = {}\n",
    "\n",
    "\n",
    "negativeReviews = reviews[0:1000]\n",
    "positiveReviews = reviews[1000:2000]\n",
    "\n",
    "\n",
    "# fill vocab with all unique words \n",
    "for i, r in enumerate(positiveReviews):\n",
    "    text = r[\"content\"] \n",
    "    for x in text:\n",
    "        for a in x:\n",
    "            word = a[0].lower()\n",
    "            vocabulary[word] = 0\n",
    "    if i == 899:\n",
    "        break\n",
    "\n",
    "# fill vocab with all unique words so this is a dict with all the words in the reviews\n",
    "for i, r in enumerate(negativeReviews):\n",
    "    text = r[\"content\"] \n",
    "    for x in text:\n",
    "        for a in x:\n",
    "            word = a[0].lower()\n",
    "#             print(a)\n",
    "            vocabulary[word] = 0\n",
    "    if i == 899:\n",
    "        break\n",
    "\n",
    "CondProbDict = vocabulary\n",
    "CondProbDict = copy.deepcopy(CondProbDict)\n",
    "\n",
    "wordcounterPos = vocabulary\n",
    "wordcounterPos = copy.deepcopy(wordcounterPos)\n",
    "\n",
    "wordcounterNeg = vocabulary\n",
    "wordcounterNeg = copy.deepcopy(wordcounterNeg)\n",
    "\n",
    "\n",
    "# count for each word its occurence\n",
    "for i, r in enumerate(positiveReviews):\n",
    "    text = r[\"content\"] \n",
    "    for x in text:\n",
    "        for a in x:\n",
    "            word = a[0].lower()\n",
    "            wordcounterPos[word] += 1\n",
    "    if i == 899:\n",
    "        break\n",
    "        \n",
    "# count for each word its occurence\n",
    "for i, r in enumerate(negativeReviews):\n",
    "    text = r[\"content\"] \n",
    "    for x in text:\n",
    "        for a in x:\n",
    "            word = a[0].lower()\n",
    "            \n",
    "            wordcounterNeg[word] += 1\n",
    "    if i == 899:\n",
    "        break\n",
    "\n",
    "        \n",
    "        \n",
    "        \n",
    "totalcountPos = sum(wordcounterPos.values())\n",
    "totalcountNeg = sum(wordcounterNeg.values())\n",
    "\n",
    "# print(totalcountNeg, totalcountPos)\n",
    "\n",
    "wordcounterPos = {k: v for k, v in wordcounterPos.items() if v != 0}\n",
    "wordcounterNeg = {k: v for k, v in wordcounterNeg.items() if v != 0}\n",
    "\n",
    "\n",
    "\n",
    "\n",
    "for key,value in CondProbDict.items():\n",
    "    \n",
    "#   if word in neg and pos\n",
    "    if key in wordcounterPos and key in wordcounterNeg:\n",
    " \n",
    "        CondProbDict[key] =  [wordcounterPos[key]/totalcountPos, wordcounterNeg[key]/totalcountNeg]\n",
    "        \n",
    "# print(CondProbDict)\n",
    "\n",
    "\n",
    "        \n",
    "negPrior = 900 / 1800\n",
    "posPrior = 900 / 1800\n",
    "\n",
    "                \n"
   ]
  },
  {
   "cell_type": "code",
   "execution_count": 258,
   "metadata": {},
   "outputs": [
    {
     "name": "stdout",
     "output_type": "stream",
     "text": [
      "Accuracy: 82.50\n"
     ]
    }
   ],
   "source": [
    "# load in test data\n",
    "\n",
    "results = []\n",
    "labels = []\n",
    "\n",
    "for x in range(2):\n",
    "    i = x\n",
    "    for y in range(100):\n",
    "        labels.append(i)\n",
    "\n",
    "negativeReviewsTest = reviews[900:1000]\n",
    "positiveReviewsTest = reviews[1900:]\n",
    "testData = negativeReviewsTest + positiveReviewsTest  \n",
    "\n",
    "# loop door elke review heen in test data\n",
    "# per review bepaal de class prob voor neg and pos\n",
    "# pak de hoogste hooste prob \n",
    "\n",
    "for i, r in enumerate(testData):\n",
    "    text = r[\"content\"] \n",
    "    \n",
    "    posProb = 0\n",
    "    negProb = 0\n",
    "    for x in text:\n",
    "        \n",
    "        for a in x:\n",
    "            word = a[0].lower()\n",
    "            \n",
    "            # make sure that test word voorkomt in both dictionaries\n",
    "            if word in CondProbDict and CondProbDict[word] != 0:\n",
    "                # bepaal pos prob\n",
    "                posProb += np.log(CondProbDict[word][0])\n",
    "                # bepaal neg prob\n",
    "                negProb += np.log(CondProbDict[word][1])\n",
    "            \n",
    "    posProb += np.log(posPrior)\n",
    "    negProb += np.log(negPrior)\n",
    "    if posProb > negProb:\n",
    "        results.append(1)\n",
    "    else:\n",
    "        results.append(0)\n",
    "                \n",
    "amount_of_correct = 0\n",
    "for r, l in zip(results, labels):\n",
    "    if r == l:\n",
    "        amount_of_correct += 1\n",
    "\n",
    "\n",
    "nb_accuracy = (amount_of_correct / len(labels) * 100)\n",
    "print(\"Accuracy: %0.2f\" % nb_accuracy)\n",
    "\n"
   ]
  },
  {
   "cell_type": "markdown",
   "metadata": {
    "id": "0INK-PBoM6CB"
   },
   "source": [
    "#### (Q3.3) Would you consider accuracy to also be a good way to evaluate your classifier in a situation where 90% of your data instances are of positive movie reviews? (1pt)\n",
    "\n",
    "Simulate this scenario by keeping the positive reviews\n",
    "data unchanged, but only using negative reviews cv000–cv089 for\n",
    "training, and cv900–cv909 for testing. Calculate the classification\n",
    "accuracy, and explain what changed."
   ]
  },
  {
   "cell_type": "markdown",
   "metadata": {
    "id": "oFbcsYlipBAw"
   },
   "source": [
    "*Write your answer here.*"
   ]
  },
  {
   "cell_type": "code",
   "execution_count": 236,
   "metadata": {
    "id": "GWDkt5ZrrFGp"
   },
   "outputs": [
    {
     "name": "stdout",
     "output_type": "stream",
     "text": [
      "62889 715547\n"
     ]
    }
   ],
   "source": [
    "import copy\n",
    "### First make vocabulary\n",
    "vocabulary = {}\n",
    "\n",
    "\n",
    "negativeReviews = reviews[0:1000]\n",
    "positiveReviews = reviews[1000:2000]\n",
    "\n",
    "\n",
    "# fill vocab with all unique words \n",
    "for i, r in enumerate(positiveReviews):\n",
    "    text = r[\"content\"] \n",
    "    for x in text:\n",
    "        for a in x:\n",
    "            word = a[0].lower()\n",
    "            vocabulary[word] = 0\n",
    "    if i == 899:\n",
    "        break\n",
    "\n",
    "# fill vocab with all unique words so this is a dict with all the words in the reviews\n",
    "for i, r in enumerate(negativeReviews):\n",
    "    text = r[\"content\"] \n",
    "    for x in text:\n",
    "        for a in x:\n",
    "            word = a[0].lower()\n",
    "            vocabulary[word] = 0\n",
    "    if i == 89:\n",
    "        break\n",
    "\n",
    "CondProbDict = vocabulary\n",
    "CondProbDict = copy.deepcopy(CondProbDict)\n",
    "\n",
    "wordcounterPos = vocabulary\n",
    "wordcounterPos = copy.deepcopy(wordcounterPos)\n",
    "\n",
    "wordcounterNeg = vocabulary\n",
    "wordcounterNeg = copy.deepcopy(wordcounterNeg)\n",
    "\n",
    "\n",
    "# count for each word its occurence\n",
    "for i, r in enumerate(positiveReviews):\n",
    "    text = r[\"content\"] \n",
    "    for x in text:\n",
    "        for a in x:\n",
    "            word = a[0].lower()\n",
    "            wordcounterPos[word] += 1\n",
    "    if i == 899:\n",
    "        break\n",
    "        \n",
    "# count for each word its occurence\n",
    "for i, r in enumerate(negativeReviews):\n",
    "    text = r[\"content\"] \n",
    "    for x in text:\n",
    "        for a in x:\n",
    "            word = a[0].lower()\n",
    "            \n",
    "            wordcounterNeg[word] += 1\n",
    "    if i == 89:\n",
    "        break\n",
    "\n",
    "        \n",
    "        \n",
    "        \n",
    "totalcountPos = sum(wordcounterPos.values())\n",
    "totalcountNeg = sum(wordcounterNeg.values())\n",
    "\n",
    "print(totalcountNeg, totalcountPos)\n",
    "\n",
    "wordcounterPos = {k: v for k, v in wordcounterPos.items() if v != 0}\n",
    "wordcounterNeg = {k: v for k, v in wordcounterNeg.items() if v != 0}\n",
    "\n",
    "\n",
    "\n",
    "\n",
    "\n",
    "for key,value in CondProbDict.items():\n",
    "    \n",
    "#   if word in neg and pos\n",
    "    if key in wordcounterPos and key in wordcounterNeg:\n",
    " \n",
    "        CondProbDict[key] =  [wordcounterPos[key]/totalcountPos, wordcounterNeg[key]/totalcountNeg]\n",
    "        \n",
    "# print(CondProbDict)\n",
    "\n",
    "\n",
    "negPrior = 90 / 990\n",
    "posPrior = 900 / 990\n"
   ]
  },
  {
   "cell_type": "code",
   "execution_count": 237,
   "metadata": {},
   "outputs": [
    {
     "name": "stdout",
     "output_type": "stream",
     "text": [
      "Accuracy: 58.18\n"
     ]
    }
   ],
   "source": [
    "# load in test data\n",
    "\n",
    "results = []\n",
    "labels = []\n",
    "\n",
    "for x in range(10):\n",
    "    labels.append(0)\n",
    "for x in range(100):\n",
    "    labels.append(1)\n",
    "\n",
    "negativeReviewsTest = reviews[900:909]\n",
    "positiveReviewsTest = reviews[1900:]\n",
    "testData = negativeReviewsTest + positiveReviewsTest  \n",
    "\n",
    "# loop door elke review heen in test data\n",
    "# per review bepaal de class prob voor neg and pos\n",
    "# pak de hoogste hooste prob \n",
    "\n",
    "for i, r in enumerate(testData):\n",
    "    text = r[\"content\"] \n",
    "    \n",
    "    posProb = 0\n",
    "    negProb = 0\n",
    "    for x in text:\n",
    "        \n",
    "        for a in x:\n",
    "            word = a[0].lower()\n",
    "            \n",
    "            # make sure that test word voorkomt in both dictionaries\n",
    "            if word in CondProbDict and CondProbDict[word] != 0:\n",
    "                # bepaal pos prob\n",
    "                posProb += np.log(CondProbDict[word][0]) \n",
    "                # bepaal neg prob\n",
    "                negProb += np.log(CondProbDict[word][1])\n",
    "                \n",
    "#     print(\"PRIORR\", np.log(posPrior))\n",
    "#     print(posProb)\n",
    "    posProb += np.log(posPrior)\n",
    "    negProb += np.log(negPrior)\n",
    "    if posProb > negProb:\n",
    "        results.append(1)\n",
    "    else:\n",
    "        results.append(0)\n",
    "        \n",
    "amount_of_correct = 0\n",
    "for r, l in zip(results, labels):\n",
    "    if r == l:\n",
    "        amount_of_correct += 1\n",
    "\n",
    "\n",
    "nb_accuracy = (amount_of_correct / len(labels) * 100)\n",
    "print(\"Accuracy: %0.2f\" % nb_accuracy)\n",
    "        \n",
    "# nb_accuracy = (sum(results)/sum(labels) ) * 100\n",
    "# print(\"Accuracy: %0.2f\" % nb_accuracy)\n",
    "\n",
    "# # print(results)\n",
    "\n",
    "\n",
    "\n",
    "\n",
    "# door de deling zijn de negatieve probs per woord veel hoger in verhouding van de positieve probs \n",
    "\n",
    "# daardoor zal hij gemiddeld gezien veel vaker een review als negatief classificeren\n",
    "\n",
    "# terwijl je veel meer traint op positief ... maar dit komt omdat de probabilities van een woord in de positieve en negatieve \n",
    "# classe worden gedeeld door de som van hun eigen aantal. dus het aantal keer dat \"dog\" voorkomt in neg / aantal worden in neg"
   ]
  },
  {
   "cell_type": "markdown",
   "metadata": {},
   "source": [
    "## Answer to Q3.3\n",
    "No, accuracy is not a measurement for a imbalanced dataset. This is because a classifier can easily get a high accuracy without actually doing a good job in classifying datapoints. It can simply all the datapoints for the class that is more present in the trainig data.\n",
    "\n",
    "This models (naive bayes) makes a mistake in calculating the probabilties for a word given a class. This is because you count the amount of times a word occurs in a negative review but you also divide by the total number of words in negative reviews. Because the total amount of words in negative reviews is low, you simply always divide by a relative low number and thus ends up with a high probability. But this is not a fair comparison for the positive class where you divide by a much higher total amount of positive words and thus end up in a lower probability. "
   ]
  },
  {
   "cell_type": "markdown",
   "metadata": {
    "id": "6wJzcHX3WUDm"
   },
   "source": [
    "## Smoothing (1.5pts)\n",
    "\n",
    "As mentioned above, the presence of words in the test dataset that\n",
    "have not been seen during training can cause probabilities in the Naive\n",
    "Bayes classifier to be $0$, thus making that particular test instance\n",
    "undecidable. The standard way to mitigate this effect (as well as to\n",
    "give more clout to rare words) is to use smoothing, in which the\n",
    "probability fraction\n",
    "$$\\frac{\\text{count}(w_i, c)}{\\sum\\limits_{w\\in V} \\text{count}(w, c)}$$ for a word\n",
    "$w_i$ becomes\n",
    "$$\\frac{\\text{count}(w_i, c) + \\text{smoothing}(w_i)}{\\sum\\limits_{w\\in V} \\text{count}(w, c) + \\sum\\limits_{w \\in V} \\text{smoothing}(w)}$$\n",
    "\n",
    "\n",
    "\n"
   ]
  },
  {
   "cell_type": "markdown",
   "metadata": {
    "id": "PBNIcbwUWphC"
   },
   "source": [
    "#### (Q3.4) Implement Laplace feature smoothing (1pt)\n",
    "Implement Laplace smoothing, i.e., smoothing with a constant value ($smoothing(w) = \\kappa, \\forall w \\in V$), in your Naive\n",
    "Bayes classifier’s code, and report the impact on performance. \n",
    "Use $\\kappa = 1$."
   ]
  },
  {
   "cell_type": "code",
   "execution_count": 241,
   "metadata": {
    "id": "g03yflCc9kpW"
   },
   "outputs": [
    {
     "name": "stdout",
     "output_type": "stream",
     "text": [
      "45348\n",
      "643275 715547\n"
     ]
    }
   ],
   "source": [
    "import copy\n",
    "k = 1\n",
    "### First make vocabulary\n",
    "vocabulary = {}\n",
    "\n",
    "\n",
    "negativeReviews = reviews[0:1000]\n",
    "positiveReviews = reviews[1000:2000]\n",
    "\n",
    "\n",
    "# fill vocab with all unique words \n",
    "for i, r in enumerate(positiveReviews):\n",
    "    text = r[\"content\"] \n",
    "    for x in text:\n",
    "        for a in x:\n",
    "            word = a[0].lower()\n",
    "            vocabulary[word] = 0\n",
    "    if i == 899:\n",
    "        break\n",
    "\n",
    "# fill vocab with all unique words so this is a dict with all the words in the reviews\n",
    "for i, r in enumerate(negativeReviews):\n",
    "    text = r[\"content\"] \n",
    "    for x in text:\n",
    "        for a in x:\n",
    "            word = a[0].lower()\n",
    "            vocabulary[word] = 0\n",
    "    if i == 899:\n",
    "        break\n",
    "\n",
    "CondProbDict = vocabulary\n",
    "CondProbDict = copy.deepcopy(CondProbDict)\n",
    "\n",
    "print(len(CondProbDict))\n",
    "\n",
    "wordcounterPos = vocabulary\n",
    "wordcounterPos = copy.deepcopy(wordcounterPos)\n",
    "\n",
    "wordcounterNeg = vocabulary\n",
    "wordcounterNeg = copy.deepcopy(wordcounterNeg)\n",
    "\n",
    "\n",
    "# count for each word its occurence\n",
    "for i, r in enumerate(positiveReviews):\n",
    "    text = r[\"content\"] \n",
    "    for x in text:\n",
    "        for a in x:\n",
    "            word = a[0].lower()\n",
    "            wordcounterPos[word] += 1\n",
    "    if i == 899:\n",
    "        break\n",
    "        \n",
    "# count for each word its occurence\n",
    "for i, r in enumerate(negativeReviews):\n",
    "    text = r[\"content\"] \n",
    "    for x in text:\n",
    "        for a in x:\n",
    "            word = a[0].lower()\n",
    "            \n",
    "            wordcounterNeg[word] += 1\n",
    "    if i == 899:\n",
    "        break\n",
    "\n",
    "        \n",
    "        \n",
    "        \n",
    "totalcountPos = sum(wordcounterPos.values())\n",
    "totalcountNeg = sum(wordcounterNeg.values())\n",
    "\n",
    "print(totalcountNeg, totalcountPos)\n",
    "\n",
    "for key,value in CondProbDict.items():\n",
    "    CondProbDict[key] =  [( wordcounterPos[key] + k) / (totalcountPos + len(CondProbDict)), \n",
    "                          ( wordcounterNeg[key] + k) / (totalcountNeg + len(CondProbDict))]\n",
    "        \n",
    "negPrior = 900 / 1800\n",
    "posPrior = 900 / 1800\n",
    "\n",
    "                \n"
   ]
  },
  {
   "cell_type": "code",
   "execution_count": 243,
   "metadata": {},
   "outputs": [
    {
     "name": "stdout",
     "output_type": "stream",
     "text": [
      "Accuracy: 82.50\n"
     ]
    }
   ],
   "source": [
    "# load in test data\n",
    "\n",
    "resultsSmooth = []\n",
    "labels = []\n",
    "\n",
    "for x in range(2):\n",
    "    i = x\n",
    "    for y in range(100):\n",
    "        labels.append(i)\n",
    "\n",
    "negativeReviewsTest = reviews[900:1000]\n",
    "positiveReviewsTest = reviews[1900:]\n",
    "testData = negativeReviewsTest + positiveReviewsTest  \n",
    "\n",
    "# loop door elke review heen in test data\n",
    "# per review bepaal de class prob voor neg and pos\n",
    "# pak de hoogste hooste prob \n",
    "\n",
    "for i, r in enumerate(testData):\n",
    "    text = r[\"content\"] \n",
    "    \n",
    "    posProb = 0\n",
    "    negProb = 0\n",
    "    for x in text:\n",
    "        \n",
    "        for a in x:\n",
    "            word = a[0].lower()\n",
    "            \n",
    "            # make sure that test word voorkomt in both dictionaries\n",
    "#             if word in CondProbDict and CondProbDict[word] != 0:\n",
    "            if word in CondProbDict:\n",
    "                \n",
    "                # bepaal pos prob\n",
    "                posProb += np.log(CondProbDict[word][0])\n",
    "                # bepaal neg prob\n",
    "                negProb += np.log(CondProbDict[word][1])\n",
    "            \n",
    "    posProb += np.log(posPrior)\n",
    "    negProb += np.log(negPrior)\n",
    "    if posProb > negProb:\n",
    "        resultsSmooth.append(1)\n",
    "    else:\n",
    "        resultsSmooth.append(0)\n",
    "        \n",
    "amount_of_correct = 0\n",
    "for r, l in zip(resultsSmooth, labels):\n",
    "    if r == l:\n",
    "        amount_of_correct += 1\n",
    "\n",
    "\n",
    "nb_accuracy = (amount_of_correct / len(labels) * 100)\n",
    "print(\"Accuracy: %0.2f\" % nb_accuracy)"
   ]
  },
  {
   "cell_type": "markdown",
   "metadata": {
    "id": "-conSBddWWyN"
   },
   "source": [
    "#### (Q3.5) Is the difference between non smoothed (Q3.2) and smoothed (Q3.4) statistically significant? (0.5pt)"
   ]
  },
  {
   "cell_type": "code",
   "execution_count": 259,
   "metadata": {
    "id": "CCvSNGlHMUPz"
   },
   "outputs": [
    {
     "name": "stdout",
     "output_type": "stream",
     "text": [
      "the difference is not significant\n",
      "1.056348479009256422247245265\n"
     ]
    }
   ],
   "source": [
    "p_value = sign_test(resultsSmooth, results)\n",
    "print(p_value)"
   ]
  },
  {
   "cell_type": "markdown",
   "metadata": {},
   "source": [
    "The difference between the smoothed and non smoothed methods is not significant. This is because the p-value from the given function is much higher than 0.05. "
   ]
  },
  {
   "cell_type": "markdown",
   "metadata": {
    "id": "ZiGcgwba87D5"
   },
   "source": [
    "## Cross-Validation (1.5pts)\n",
    "\n",
    "A serious danger in using Machine Learning on small datasets, with many\n",
    "iterations of slightly different versions of the algorithms, is ending up with Type III errors, also called the “testing hypotheses\n",
    "suggested by the data” errors. This type of error occurs when we make\n",
    "repeated improvements to our classifiers by playing with features and\n",
    "their processing, but we don’t get a fresh, never-before seen test\n",
    "dataset every time. Thus, we risk developing a classifier that gets better\n",
    "and better on our data, but only gets worse at generalizing to new, unseen data. In other words, we risk developping a classifier that overfits.\n",
    "\n",
    "A simple method to guard against Type III errors is to use\n",
    "Cross-Validation. In **N-fold Cross-Validation**, we divide the data into N\n",
    "distinct chunks, or folds. Then, we repeat the experiment N times: each\n",
    "time holding out one of the folds for testing, training our classifier\n",
    "on the remaining N - 1 data folds, and reporting performance on the\n",
    "held-out fold. We can use different strategies for dividing the data:\n",
    "\n",
    "-   Consecutive splitting:\n",
    "  - cv000–cv099 = Split 1\n",
    "  - cv100–cv199 = Split 2\n",
    "  - etc.\n",
    "  \n",
    "-   Round-robin splitting (mod 10):\n",
    "  - cv000, cv010, cv020, … = Split 1\n",
    "  - cv001, cv011, cv021, … = Split 2\n",
    "  - etc.\n",
    "\n",
    "-   Random sampling/splitting\n",
    "  - Not used here (but you may choose to split this way in a non-educational situation)\n",
    "\n"
   ]
  },
  {
   "cell_type": "markdown",
   "metadata": {
    "id": "8OeLcbSauGtR"
   },
   "source": [
    "#### (Q3.6) Write the code to implement 10-fold cross-validation using round-robin splitting for your Naive Bayes classifier from Q3.2 and compute the 10 accuracies. Report the final performance, which is the average of the performances per fold. If all splits perform equally well, this is a good sign. (1pt)"
   ]
  },
  {
   "cell_type": "code",
   "execution_count": 260,
   "metadata": {
    "id": "3KeCGPa7Nuzx",
    "scrolled": true
   },
   "outputs": [
    {
     "name": "stderr",
     "output_type": "stream",
     "text": [
      "\r",
      "  0%|                                                                                                                                                                                        | 0/10 [00:00<?, ?it/s]"
     ]
    },
    {
     "name": "stdout",
     "output_type": "stream",
     "text": [
      "[77.5]\n"
     ]
    },
    {
     "name": "stderr",
     "output_type": "stream",
     "text": [
      "\r",
      " 10%|█████████████████▌                                                                                                                                                              | 1/10 [00:01<00:09,  1.07s/it]"
     ]
    },
    {
     "name": "stdout",
     "output_type": "stream",
     "text": [
      "[77.5, 83.0]\n"
     ]
    },
    {
     "name": "stderr",
     "output_type": "stream",
     "text": [
      "\r",
      " 20%|███████████████████████████████████▏                                                                                                                                            | 2/10 [00:02<00:08,  1.07s/it]"
     ]
    },
    {
     "name": "stdout",
     "output_type": "stream",
     "text": [
      "[77.5, 83.0, 80.5]\n"
     ]
    },
    {
     "name": "stderr",
     "output_type": "stream",
     "text": [
      "\r",
      " 30%|████████████████████████████████████████████████████▊                                                                                                                           | 3/10 [00:03<00:07,  1.06s/it]"
     ]
    },
    {
     "name": "stdout",
     "output_type": "stream",
     "text": [
      "[77.5, 83.0, 80.5, 86.5]\n"
     ]
    },
    {
     "name": "stderr",
     "output_type": "stream",
     "text": [
      "\r",
      " 40%|██████████████████████████████████████████████████████████████████████▍                                                                                                         | 4/10 [00:04<00:06,  1.05s/it]"
     ]
    },
    {
     "name": "stdout",
     "output_type": "stream",
     "text": [
      "[77.5, 83.0, 80.5, 86.5, 78.0]\n"
     ]
    },
    {
     "name": "stderr",
     "output_type": "stream",
     "text": [
      "\r",
      " 50%|████████████████████████████████████████████████████████████████████████████████████████                                                                                        | 5/10 [00:05<00:05,  1.05s/it]"
     ]
    },
    {
     "name": "stdout",
     "output_type": "stream",
     "text": [
      "[77.5, 83.0, 80.5, 86.5, 78.0, 85.5]\n"
     ]
    },
    {
     "name": "stderr",
     "output_type": "stream",
     "text": [
      "\r",
      " 60%|█████████████████████████████████████████████████████████████████████████████████████████████████████████▌                                                                      | 6/10 [00:06<00:04,  1.05s/it]"
     ]
    },
    {
     "name": "stdout",
     "output_type": "stream",
     "text": [
      "[77.5, 83.0, 80.5, 86.5, 78.0, 85.5, 81.0]\n"
     ]
    },
    {
     "name": "stderr",
     "output_type": "stream",
     "text": [
      "\r",
      " 70%|███████████████████████████████████████████████████████████████████████████████████████████████████████████████████████████▏                                                    | 7/10 [00:07<00:03,  1.05s/it]"
     ]
    },
    {
     "name": "stdout",
     "output_type": "stream",
     "text": [
      "[77.5, 83.0, 80.5, 86.5, 78.0, 85.5, 81.0, 79.5]\n"
     ]
    },
    {
     "name": "stderr",
     "output_type": "stream",
     "text": [
      "\r",
      " 80%|████████████████████████████████████████████████████████████████████████████████████████████████████████████████████████████████████████████▊                                   | 8/10 [00:08<00:02,  1.04s/it]"
     ]
    },
    {
     "name": "stdout",
     "output_type": "stream",
     "text": [
      "[77.5, 83.0, 80.5, 86.5, 78.0, 85.5, 81.0, 79.5, 82.5]\n"
     ]
    },
    {
     "name": "stderr",
     "output_type": "stream",
     "text": [
      "\r",
      " 90%|██████████████████████████████████████████████████████████████████████████████████████████████████████████████████████████████████████████████████████████████▍                 | 9/10 [00:09<00:01,  1.05s/it]"
     ]
    },
    {
     "name": "stdout",
     "output_type": "stream",
     "text": [
      "[77.5, 83.0, 80.5, 86.5, 78.0, 85.5, 81.0, 79.5, 82.5, 80.5]\n"
     ]
    },
    {
     "name": "stderr",
     "output_type": "stream",
     "text": [
      "100%|███████████████████████████████████████████████████████████████████████████████████████████████████████████████████████████████████████████████████████████████████████████████| 10/10 [00:11<00:00,  1.10s/it]\n"
     ]
    },
    {
     "name": "stdout",
     "output_type": "stream",
     "text": [
      "[77.5, 83.0, 80.5, 86.5, 78.0, 85.5, 81.0, 79.5, 82.5, 80.5]\n"
     ]
    },
    {
     "ename": "NameError",
     "evalue": "name 'avg' is not defined",
     "output_type": "error",
     "traceback": [
      "\u001b[1;31m---------------------------------------------------------------------------\u001b[0m",
      "\u001b[1;31mNameError\u001b[0m                                 Traceback (most recent call last)",
      "\u001b[1;32m<ipython-input-260-5652bebea963>\u001b[0m in \u001b[0;36m<module>\u001b[1;34m\u001b[0m\n\u001b[0;32m    177\u001b[0m \u001b[0mprint\u001b[0m\u001b[1;33m(\u001b[0m\u001b[0maccuracies\u001b[0m\u001b[1;33m)\u001b[0m\u001b[1;33m\u001b[0m\u001b[1;33m\u001b[0m\u001b[0m\n\u001b[0;32m    178\u001b[0m \u001b[1;33m\u001b[0m\u001b[0m\n\u001b[1;32m--> 179\u001b[1;33m \u001b[0mavg\u001b[0m\u001b[1;33m(\u001b[0m\u001b[0maccuracies\u001b[0m\u001b[1;33m)\u001b[0m\u001b[1;33m\u001b[0m\u001b[1;33m\u001b[0m\u001b[0m\n\u001b[0m\u001b[0;32m    180\u001b[0m \u001b[1;33m\u001b[0m\u001b[0m\n",
      "\u001b[1;31mNameError\u001b[0m: name 'avg' is not defined"
     ]
    }
   ],
   "source": [
    "# fill vocab with all unique words \n",
    "\n",
    "\n",
    "from tqdm import tqdm\n",
    "folds_dict_pos = {}\n",
    "for x in range(10):\n",
    "    folds_dict_pos[x] = []\n",
    "\n",
    "for i, r in enumerate(positiveReviews):\n",
    "\n",
    "    text = r[\"content\"] \n",
    "    words_in_review = []\n",
    "    for x in text:\n",
    "        for a in x:\n",
    "            word = a[0].lower()\n",
    "            words_in_review.append(word)\n",
    "#             vocabulary[word] = 0\n",
    "\n",
    "    current_list = folds_dict_pos[i % 10]\n",
    "    new_list = current_list + [words_in_review]\n",
    "    \n",
    "    folds_dict_pos[i % 10] = new_list\n",
    "\n",
    "# # fill vocab with all unique words \n",
    "folds_dict_neg = {}\n",
    "for x in range(10):\n",
    "    folds_dict_neg[x] = []\n",
    "\n",
    "for i, r in enumerate(negativeReviews):\n",
    "\n",
    "    text = r[\"content\"] \n",
    "    words_in_review = []\n",
    "    for x in text:\n",
    "        for a in x:\n",
    "            word = a[0].lower()\n",
    "            words_in_review.append(word)\n",
    "\n",
    "    current_list = folds_dict_neg[i % 10]\n",
    "    new_list = current_list + [words_in_review]\n",
    "    \n",
    "    folds_dict_neg[i % 10] = new_list\n",
    "\n",
    "    \n",
    "def pick_training_boiz(test_fold, fold_dict):\n",
    "    \n",
    "    data_list = []\n",
    "    \n",
    "    for fold in range(10):\n",
    "        if fold != test_fold:\n",
    "            data_list.append(fold_dict[fold])\n",
    "            \n",
    "    return data_list\n",
    "    \n",
    "accuracies = []\n",
    "    \n",
    "# we trainen 10 keer, dus elke loop is een andere fold de test fold\n",
    "for n_fold in tqdm(range(10)):\n",
    "    \n",
    "    fold_vocab = {}\n",
    "    \n",
    "    # loop door de 9 folds die training data bevatten\n",
    "    for fold in train_pos:\n",
    "        for review in fold:\n",
    "            for word in review:\n",
    "                fold_vocab[word.lower()] = 0\n",
    "\n",
    "            \n",
    "    for fold in train_neg:\n",
    "        for review in fold:\n",
    "            for word in review:\n",
    "                fold_vocab[word.lower()] = 0\n",
    "                \n",
    "    \n",
    "    CondProbDict = fold_vocab\n",
    "    CondProbDict = copy.deepcopy(CondProbDict)\n",
    "\n",
    "    wordcounterPos = fold_vocab\n",
    "    wordcounterPos = copy.deepcopy(wordcounterPos)\n",
    "\n",
    "    wordcounterNeg = fold_vocab\n",
    "    wordcounterNeg = copy.deepcopy(wordcounterNeg)    \n",
    "    \n",
    "    \n",
    "    # selecteer test folds\n",
    "    test_pos = folds_dict_pos[n_fold]\n",
    "    test_neg = folds_dict_neg[n_fold]\n",
    "    \n",
    "    # selecteer de training data \n",
    "    train_pos = pick_training_boiz(n_fold, folds_dict_pos)\n",
    "    train_neg = pick_training_boiz(n_fold, folds_dict_neg)\n",
    "    \n",
    "    # loop door de 9 folds die training data bevatten\n",
    "    for fold in train_pos:\n",
    "        for review in fold:\n",
    "            for word in review:\n",
    "                if word in wordcounterPos:\n",
    "                    wordcounterPos[word.lower()] += 1\n",
    "            \n",
    "    for fold in train_neg:\n",
    "        for review in fold:\n",
    "            for word in review:\n",
    "                if word in wordcounterNeg:\n",
    "                    wordcounterNeg[word.lower()] += 1\n",
    "    \n",
    "    totalcountPos = sum(wordcounterPos.values())\n",
    "    totalcountNeg = sum(wordcounterNeg.values())\n",
    "\n",
    "    wordcounterPos = {k: v for k, v in wordcounterPos.items() if v != 0}\n",
    "    wordcounterNeg = {k: v for k, v in wordcounterNeg.items() if v != 0}\n",
    "\n",
    "    for key,value in CondProbDict.items():\n",
    "\n",
    "    #   if word in neg and pos\n",
    "        if key in wordcounterPos and key in wordcounterNeg:\n",
    "            CondProbDict[key] =  [wordcounterPos[key]/totalcountPos, wordcounterNeg[key]/totalcountNeg]\n",
    "\n",
    "    posPrior = len(train_pos) / (len(train_pos) + len(train_neg))\n",
    "    negPrior = len(train_neg) / (len(train_pos) + len(train_neg))\n",
    "    \n",
    "    results = []\n",
    "    labels = []\n",
    "    \n",
    "    for review in test_pos:\n",
    "#         print(test_pos)\n",
    "                \n",
    "        posProb = 0\n",
    "        negProb = 0\n",
    "        for word in review:\n",
    "           \n",
    "            \n",
    "            # make sure that test word voorkomt in both dictionaries\n",
    "            if word.lower() in CondProbDict and CondProbDict[word.lower()] != 0:\n",
    "                # bepaal pos prob\n",
    "                posProb += np.log(CondProbDict[word.lower()][0]) \n",
    "                # bepaal neg prob\n",
    "                negProb += np.log(CondProbDict[word.lower()][1])\n",
    "\n",
    "        posProb += np.log(posPrior)\n",
    "        negProb += np.log(negPrior)\n",
    "        if posProb > negProb:\n",
    "            results.append(1)\n",
    "        else:\n",
    "            results.append(0)\n",
    "\n",
    "        labels.append(1)\n",
    "        \n",
    "        \n",
    "    for review in test_neg:\n",
    "                \n",
    "        posProb = 0\n",
    "        negProb = 0\n",
    "        for word in review:\n",
    "            \n",
    "            # make sure that test word voorkomt in both dictionaries\n",
    "            if word.lower() in CondProbDict and CondProbDict[word.lower()] != 0:\n",
    "                # bepaal pos prob\n",
    "                posProb += np.log(CondProbDict[word.lower()][0]) \n",
    "                # bepaal neg prob\n",
    "                negProb += np.log(CondProbDict[word.lower()][1])\n",
    "\n",
    "        posProb += np.log(posPrior)\n",
    "        negProb += np.log(negPrior)\n",
    "        if posProb > negProb:\n",
    "            results.append(1)\n",
    "        else:\n",
    "            results.append(0)\n",
    "        \n",
    "        labels.append(0)\n",
    "    \n",
    "    amount_of_correct = 0\n",
    "    for r, l in zip(results, labels):\n",
    "        if r == l:\n",
    "            amount_of_correct += 1\n",
    "\n",
    "    accuracies.append( (amount_of_correct / len(labels)) * 100)\n",
    "    print(accuracies)\n",
    "print(accuracies)\n",
    "\n",
    "\n",
    "    \n"
   ]
  },
  {
   "cell_type": "code",
   "execution_count": 264,
   "metadata": {},
   "outputs": [
    {
     "data": {
      "text/plain": [
       "81.45"
      ]
     },
     "execution_count": 264,
     "metadata": {},
     "output_type": "execute_result"
    }
   ],
   "source": [
    "sum(accuracies) / len(accuracies)"
   ]
  },
  {
   "cell_type": "markdown",
   "metadata": {
    "id": "otdlsDXBNyOa"
   },
   "source": [
    "#### (Q3.7) Write code to calculate and report the variance of the 10 accuracy scores, in addition to the final performance. You must not use a library, such as numpy. (0.5pt)\n",
    "\n",
    "**Please report all future results using 10-fold cross-validation now\n",
    "(unless told to use the held-out test set).**"
   ]
  },
  {
   "cell_type": "code",
   "execution_count": null,
   "metadata": {
    "id": "ZoBQm1KuNzNR"
   },
   "outputs": [],
   "source": [
    "# YOUR CODE HERE"
   ]
  },
  {
   "cell_type": "markdown",
   "metadata": {
    "id": "s6A2zX9_BRKm"
   },
   "source": [
    "## Features, overfitting, and the curse of dimensionality\n",
    "\n",
    "In the Bag-of-Words model, ideally we would like each distinct word in\n",
    "the text to be mapped to its own dimension in the output vector\n",
    "representation. However, real world text is messy, and we need to decide\n",
    "on what we consider to be a word. For example, is “`word`\" different\n",
    "from “`Word`\", from “`word`”, or from “`words`\"? Too strict a\n",
    "definition, and the number of features explodes, while our algorithm\n",
    "fails to learn anything generalisable. Too lax, and we risk destroying\n",
    "our learning signal. In the following section, you will learn about\n",
    "confronting the feature sparsity and the overfitting problems as they\n",
    "occur in NLP classification tasks."
   ]
  },
  {
   "cell_type": "markdown",
   "metadata": {
    "id": "EKK8FNt8VtcZ"
   },
   "source": [
    "### Stemming (1.5pts)\n",
    "\n",
    "To make your algorithm more robust, use stemming and\n",
    "hash different inflections of a word to the same feature in the BoW\n",
    "vector space. How does the performance of your classifier change when\n",
    "you use stemming on your training and test datasets? Please use the [Porter stemming\n",
    "    algorithm](http://www.nltk.org/howto/stem.html) from NLTK.\n",
    "\n",
    "You should also perform cross-validation. Concatenate the predictions from all folds to compute the significance."
   ]
  },
  {
   "cell_type": "code",
   "execution_count": null,
   "metadata": {
    "id": "NxtCul1IrBi_"
   },
   "outputs": [],
   "source": [
    "# YOUR CODE HERE"
   ]
  },
  {
   "cell_type": "markdown",
   "metadata": {
    "id": "6SrJ1BeLXTnk"
   },
   "source": [
    "#### (Q3.9): Is the difference between NB with smoothing and NB with smoothing+stemming significant? (1pt)\n"
   ]
  },
  {
   "cell_type": "code",
   "execution_count": null,
   "metadata": {
    "id": "gYqKBOiIrInT"
   },
   "outputs": [],
   "source": [
    "# YOUR ANSWER HERE"
   ]
  },
  {
   "cell_type": "markdown",
   "metadata": {
    "id": "JkDHVq_1XUVP"
   },
   "source": [
    "#### (Q3.10) What happens to the number of features (i.e., the size of the vocabulary) when using stemming as opposed to (Q3.4)? (0.5pt)\n",
    "Give actual numbers. You can use the held-out training set to determine these."
   ]
  },
  {
   "cell_type": "code",
   "execution_count": null,
   "metadata": {
    "id": "MA3vee5-rJyy"
   },
   "outputs": [],
   "source": [
    "# YOUR CODE HERE"
   ]
  },
  {
   "cell_type": "markdown",
   "metadata": {
    "id": "SoazfxbNV5Lq"
   },
   "source": [
    "### N-grams (1.5pts)\n",
    "\n",
    "A simple way of retaining some of the word\n",
    "order information when using bag-of-words representations is to add **n-gram** features. \n",
    "\n",
    "\n",
    "\n",
    "\n"
   ]
  },
  {
   "cell_type": "markdown",
   "metadata": {
    "id": "OHjy3I7-qWiu"
   },
   "source": [
    "#### (Q3.11) Retrain your classifier from (Q3.4) using **unigrams+bigrams** and **unigrams+bigrams+trigrams** as features. (1pt)\n",
    "Report accuracy and statistical significances (in comparison to the experiment at (Q3.6) for all 10 folds, and between the new systems). You are allowed to use NLTK to build n-grams from sentences."
   ]
  },
  {
   "cell_type": "code",
   "execution_count": null,
   "metadata": {
    "id": "eYuKMTOpq9jz"
   },
   "outputs": [],
   "source": [
    "# YOUR CODE HERE"
   ]
  },
  {
   "cell_type": "markdown",
   "metadata": {
    "id": "dVrGGArkrWoL"
   },
   "source": [
    "\n",
    "#### Q3.12: How many features does the BoW model have to take into account now? (0.5pt)\n",
    "How would you expect the number of features to increase theoretically (e.g., linear, square, cubed, exponential)? How does this number compare, in practice, to the number of features at (Q3.10)?\n",
    "\n",
    "Use the held-out training set once again for this.\n"
   ]
  },
  {
   "cell_type": "markdown",
   "metadata": {
    "id": "yEGZ9SV8pPaa"
   },
   "source": [
    "*Write your answer here.*"
   ]
  },
  {
   "cell_type": "code",
   "execution_count": null,
   "metadata": {
    "id": "_z8sAJeUrdtM"
   },
   "outputs": [],
   "source": [
    "# YOUR CODE HERE"
   ]
  },
  {
   "cell_type": "markdown",
   "metadata": {
    "id": "CHWKDL3YV6vh"
   },
   "source": [
    "# Support Vector Machines (4pts)"
   ]
  },
  {
   "cell_type": "markdown",
   "metadata": {
    "id": "hJSYhcVaoJGt"
   },
   "source": [
    "Though simple to understand, implement, and debug, one\n",
    "major problem with the Naive Bayes classifier is that its performance\n",
    "deteriorates (becomes skewed) when it is being used with features which\n",
    "are not independent (i.e., are correlated). Another popular classifier\n",
    "that doesn’t scale as well to big data, and is not as simple to debug as\n",
    "Naive Bayes, but that doesn’t assume feature independence is the Support\n",
    "Vector Machine (SVM) classifier.\n",
    "\n",
    "You can find more details about SVMs in Chapter 7 of Bishop: Pattern Recognition and Machine Learning.\n",
    "Other sources for learning SVM:\n",
    "* http://web.mit.edu/zoya/www/SVM.pdf\n",
    "* http://www.cs.columbia.edu/~kathy/cs4701/documents/jason_svm_tutorial.pdf\n",
    "* https://pythonprogramming.net/support-vector-machine-intro-machine-learning-tutorial/\n",
    "\n",
    "\n",
    "\n",
    "\n",
    "\n",
    "\n",
    "\n",
    "Use the scikit-learn implementation of \n",
    "[SVM](http://scikit-learn.org/stable/modules/svm.html) with the default parameters. (You are not expected to perform any hyperparameter tuning, but feel free to do it if you think it gives you good insights for the discussion in question 5.)\n",
    "\n"
   ]
  },
  {
   "cell_type": "markdown",
   "metadata": {
    "id": "0LnzNtQBV8gr"
   },
   "source": [
    "#### (Q4.1): Train SVM and compare to Naive Bayes (2pts)\n",
    "\n",
    "Train an SVM classifier (sklearn.svm.LinearSVC) using your features. Compare the\n",
    "classification performance of the SVM classifier to that of the Naive\n",
    "Bayes classifier with smoothing from (Q3.6) and report the numbers.\n",
    "Perform cross-validation and concatenate the predictions from all folds to compute the significance.  Are the results significantly better?\n",
    "\n"
   ]
  },
  {
   "cell_type": "code",
   "execution_count": null,
   "metadata": {
    "id": "JBscui8Mvoz0"
   },
   "outputs": [],
   "source": [
    "# YOUR CODE HERE"
   ]
  },
  {
   "cell_type": "markdown",
   "metadata": {
    "id": "ifXVWcK0V9qY"
   },
   "source": [
    "### POS disambiguation (2pts)\n",
    "\n",
    "Now add in part-of-speech features. You will find the\n",
    "movie review dataset has already been POS-tagged for you ([here](https://catalog.ldc.upenn.edu/docs/LDC99T42/tagguid1.pdf) you find the tagset). Try to\n",
    "replicate the results obtained by Pang et al. (2002).\n",
    "\n"
   ]
  },
  {
   "cell_type": "markdown",
   "metadata": {
    "id": "xA3I82o4oWGu"
   },
   "source": [
    "####(Q4.2) Replace your features with word+POS features, and report performance with the SVM. Does this help? Perform cross-validation and concatenate the predictions from all folds to compute the significance. Are the results significant? *Why?*  (1pt)\n"
   ]
  },
  {
   "cell_type": "code",
   "execution_count": null,
   "metadata": {
    "id": "NOvjYe-t2Br6"
   },
   "outputs": [],
   "source": [
    "# YOUR CODE HERE"
   ]
  },
  {
   "cell_type": "markdown",
   "metadata": {
    "id": "L0dt_oQupUNe"
   },
   "source": [
    "*Write your answer here.*"
   ]
  },
  {
   "cell_type": "markdown",
   "metadata": {
    "id": "Su-3w87eMW0w"
   },
   "source": [
    "#### (Q4.3) Discard all closed-class words from your data (keep only nouns, verbs, adjectives, and adverbs), and report performance. Does this help? Perform cross-validation and concatenate the predictions from all folds to compute the significance. Are the results significantly better than when we don't discard the closed-class words? *Why?* (1pt)"
   ]
  },
  {
   "cell_type": "code",
   "execution_count": null,
   "metadata": {
    "id": "CCUPlPozCYUX"
   },
   "outputs": [],
   "source": [
    "# YOUR CODE HERE"
   ]
  },
  {
   "cell_type": "markdown",
   "metadata": {
    "id": "YaxCVrs8pWSp"
   },
   "source": [
    "*Write your answer here.*"
   ]
  },
  {
   "cell_type": "markdown",
   "metadata": {
    "id": "nfwqOciAl2No"
   },
   "source": [
    "# (Q5) Discussion (max. 500 words). (5pts)\n",
    "\n",
    "> Based on your experiments, what are the effective features and techniques in sentiment analysis? What information do different features encode?\n",
    "Why is this important? What are the limitations of these features and techniques?\n",
    " \n"
   ]
  },
  {
   "cell_type": "markdown",
   "metadata": {
    "id": "ZYuse5WLmekZ"
   },
   "source": [
    "*Write your answer here in up to 500 words (-0.25pt for >50 extra words, -0.5 points for >100 extra words, ...)*.\n"
   ]
  },
  {
   "cell_type": "markdown",
   "metadata": {
    "id": "iwaKwfWQhRk_"
   },
   "source": [
    "# Submission \n"
   ]
  },
  {
   "cell_type": "code",
   "execution_count": null,
   "metadata": {
    "id": "aOUeaET5ijk-"
   },
   "outputs": [],
   "source": [
    "# Write your names and student numbers here:\n",
    "# Student 1 #12345\n",
    "# Student 2 #12345"
   ]
  },
  {
   "cell_type": "markdown",
   "metadata": {
    "id": "3A9K-H6Tii3X"
   },
   "source": [
    "**That's it!**\n",
    "\n",
    "- Check if you answered all questions fully and correctly. \n",
    "- Download your completed notebook using `File -> Download .ipynb` \n",
    "- Check if your answers are all included in the file you submit.\n",
    "- Submit your .ipynb file via *Canvas*. One submission per group. "
   ]
  },
  {
   "cell_type": "code",
   "execution_count": null,
   "metadata": {
    "id": "YHslatYAKBrF"
   },
   "outputs": [],
   "source": []
  }
 ],
 "metadata": {
  "colab": {
   "collapsed_sections": [
    "uhU_tk-BOaXb"
   ],
   "name": "NLP1 2020 Practical 1 (student version)",
   "provenance": [],
   "toc_visible": true
  },
  "kernelspec": {
   "display_name": "Python 3",
   "language": "python",
   "name": "python3"
  },
  "language_info": {
   "codemirror_mode": {
    "name": "ipython",
    "version": 3
   },
   "file_extension": ".py",
   "mimetype": "text/x-python",
   "name": "python",
   "nbconvert_exporter": "python",
   "pygments_lexer": "ipython3",
   "version": "3.7.4"
  }
 },
 "nbformat": 4,
 "nbformat_minor": 1
}
